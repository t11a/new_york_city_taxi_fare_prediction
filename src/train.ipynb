{
 "cells": [
  {
   "cell_type": "code",
   "execution_count": 1,
   "metadata": {},
   "outputs": [],
   "source": [
    "import pandas as pd\n",
    "import numpy as np\n",
    "import matplotlib.pyplot as plt\n",
    "%matplotlib inline\n",
    "plt.style.use('ggplot')\n",
    "\n",
    "import seaborn as sns"
   ]
  },
  {
   "cell_type": "code",
   "execution_count": 2,
   "metadata": {},
   "outputs": [],
   "source": [
    "INPUT_TRAIN = '../input/train.csv'\n",
    "INPUT_TEST = '../input/test.csv'\n",
    "OUTPUT_SUBMIT = '../output/submit.csv'"
   ]
  },
  {
   "cell_type": "code",
   "execution_count": 3,
   "metadata": {},
   "outputs": [],
   "source": [
    "def calculation_distance(x_1, y_1, x_2, y_2):\n",
    "    # 赤道半径 (km)\n",
    "    R = 6371\n",
    "    # Radian角に変換\n",
    "    _x1, _y1, _x2, _y2  = map(np.radians, [x_1, y_1, x_2, y_2])\n",
    "    \n",
    "    delta_x = _x2 - _x1\n",
    "    delta_y = _y2 - _y1\n",
    "    \n",
    "    # 距離を計算\n",
    "    a = np.sin(delta_y/2.0)**2 + np.cos(_y1) * np.cos(_y2) * np.sin(delta_x/2.0)**2\n",
    "    return 2 * R * np.arcsin(np.sqrt(a))\n",
    "\n",
    "def calculation_azimuth(x_1, y_1, x_2, y_2):\n",
    "    # Radian角に修正\n",
    "    _x1, _y1, _x2, _y2 = map(np.radians, [x_1, y_1, x_2, y_2])\n",
    "    \n",
    "    delta_x = _x2 - _x1\n",
    "    _y = np.sin(delta_x)\n",
    "    _x = np.cos(_y1) * np.tan(_y2) - np.sin(_y1) * np.cos(delta_x)\n",
    "\n",
    "    psi = np.rad2deg(np.arctan2(_y, _x))\n",
    "    \n",
    "    return np.where(psi < 0, 360 + psi, psi)\n",
    "\n",
    "def outlier_iqr(df, columns=None):\n",
    "    if columns == None:\n",
    "        columns = df.columns\n",
    "\n",
    "    for col in columns:\n",
    "        q1 = df[col].describe()['25%']\n",
    "        q3 = df[col].describe()['75%']\n",
    "        #四分位範囲\n",
    "        iqr = q3 - q1 \n",
    "        \n",
    "        outlier_min = q1 - iqr * 1.5\n",
    "        outlier_max = q3 + iqr * 1.5\n",
    "\n",
    "        df = df[(df[col] >= outlier_min) & (df[col] <= outlier_max)]\n",
    "        \n",
    "    return df"
   ]
  },
  {
   "cell_type": "code",
   "execution_count": 4,
   "metadata": {},
   "outputs": [],
   "source": [
    "def preprocessing(df, isTrainData=True):\n",
    "    print('before dropna:{}'.format(df.shape))\n",
    "    df = df.dropna()\n",
    "    print('after dropna:{}'.format(df.shape))\n",
    "    \n",
    "    # fare_amount\n",
    "    if 'fare_amount' in df.columns:\n",
    "        df = df[df['fare_amount'] > 0]\n",
    "        print('after fare_amount > 0:{}'.format(df.shape))\n",
    "\n",
    "        df = outlier_iqr(df, columns=['fare_amount'])\n",
    "        print('after outlier_iqr:{}'.format(df.shape))\n",
    "    \n",
    "    # latitude and longitude\n",
    "    if isTrainData:\n",
    "        df = df[(df['pickup_longitude'] > -75) & (df['pickup_longitude'] < -73)]\n",
    "        df = df[(df['pickup_latitude'] > 40) & (df['pickup_latitude'] < 42)]\n",
    "        df = df[(df['dropoff_longitude'] > -75) & (df['dropoff_longitude'] < -73)]\n",
    "        df = df[(df['dropoff_latitude'] > 40) & (df['dropoff_latitude'] < 42)]\n",
    "        print('after narrrowing location:{}'.format(df.shape))\n",
    "    \n",
    "    # passenger count\n",
    "    df = df[df['passenger_count'] > 0]\n",
    "    print('after passenger count > 0:{}'.format(df.shape))\n",
    "    \n",
    "    # add new feature from latitude and longitude\n",
    "    df['distance'] = calculation_distance(df['pickup_longitude'],\n",
    "                                      df['pickup_latitude'],\n",
    "                                      df['dropoff_longitude'],\n",
    "                                      df['dropoff_latitude'])\n",
    "    df['azimuth'] = calculation_azimuth(df['pickup_longitude'],\n",
    "                                      df['pickup_latitude'],\n",
    "                                      df['dropoff_longitude'],\n",
    "                                      df['dropoff_latitude'])\n",
    "    print('after adding distance and azimuth > 0:{}'.format(df.shape))\n",
    "    \n",
    "    # modify pickup_datetime\n",
    "    df['pickup_datetime'] = pd.to_datetime(df['pickup_datetime'], format='%Y-%m-%d %H:%M:%S UTC')\n",
    "    \n",
    "    df['hour'] = df['pickup_datetime'].dt.hour\n",
    "    df['day'] = df['pickup_datetime'].dt.day\n",
    "    df['month'] = df['pickup_datetime'].dt.month\n",
    "    df['dayofweek'] = df['pickup_datetime'].dt.dayofweek\n",
    "    df['year'] = df['pickup_datetime'].dt.year\n",
    "    print('after updating pickup_datetime > 0:{}'.format(df.shape))\n",
    "    \n",
    "    return df"
   ]
  },
  {
   "cell_type": "markdown",
   "metadata": {},
   "source": [
    "# Load Test Data"
   ]
  },
  {
   "cell_type": "code",
   "execution_count": 5,
   "metadata": {},
   "outputs": [
    {
     "name": "stdout",
     "output_type": "stream",
     "text": [
      "before dropna:(9914, 7)\n",
      "after dropna:(9914, 7)\n",
      "after passenger count > 0:(9914, 7)\n",
      "after adding distance and azimuth > 0:(9914, 9)\n",
      "after updating pickup_datetime > 0:(9914, 14)\n"
     ]
    },
    {
     "data": {
      "text/html": [
       "<div>\n",
       "<style scoped>\n",
       "    .dataframe tbody tr th:only-of-type {\n",
       "        vertical-align: middle;\n",
       "    }\n",
       "\n",
       "    .dataframe tbody tr th {\n",
       "        vertical-align: top;\n",
       "    }\n",
       "\n",
       "    .dataframe thead th {\n",
       "        text-align: right;\n",
       "    }\n",
       "</style>\n",
       "<table border=\"1\" class=\"dataframe\">\n",
       "  <thead>\n",
       "    <tr style=\"text-align: right;\">\n",
       "      <th></th>\n",
       "      <th>key</th>\n",
       "      <th>pickup_datetime</th>\n",
       "      <th>pickup_longitude</th>\n",
       "      <th>pickup_latitude</th>\n",
       "      <th>dropoff_longitude</th>\n",
       "      <th>dropoff_latitude</th>\n",
       "      <th>passenger_count</th>\n",
       "      <th>distance</th>\n",
       "      <th>azimuth</th>\n",
       "      <th>hour</th>\n",
       "      <th>day</th>\n",
       "      <th>month</th>\n",
       "      <th>dayofweek</th>\n",
       "      <th>year</th>\n",
       "    </tr>\n",
       "  </thead>\n",
       "  <tbody>\n",
       "    <tr>\n",
       "      <th>0</th>\n",
       "      <td>2015-01-27 13:08:24.0000002</td>\n",
       "      <td>2015-01-27 13:08:24</td>\n",
       "      <td>-73.973320</td>\n",
       "      <td>40.763805</td>\n",
       "      <td>-73.981430</td>\n",
       "      <td>40.743835</td>\n",
       "      <td>1</td>\n",
       "      <td>2.323260</td>\n",
       "      <td>197.102591</td>\n",
       "      <td>13</td>\n",
       "      <td>27</td>\n",
       "      <td>1</td>\n",
       "      <td>1</td>\n",
       "      <td>2015</td>\n",
       "    </tr>\n",
       "    <tr>\n",
       "      <th>1</th>\n",
       "      <td>2015-01-27 13:08:24.0000003</td>\n",
       "      <td>2015-01-27 13:08:24</td>\n",
       "      <td>-73.986862</td>\n",
       "      <td>40.719383</td>\n",
       "      <td>-73.998886</td>\n",
       "      <td>40.739201</td>\n",
       "      <td>1</td>\n",
       "      <td>2.425353</td>\n",
       "      <td>335.311613</td>\n",
       "      <td>13</td>\n",
       "      <td>27</td>\n",
       "      <td>1</td>\n",
       "      <td>1</td>\n",
       "      <td>2015</td>\n",
       "    </tr>\n",
       "    <tr>\n",
       "      <th>2</th>\n",
       "      <td>2011-10-08 11:53:44.0000002</td>\n",
       "      <td>2011-10-08 11:53:44</td>\n",
       "      <td>-73.982524</td>\n",
       "      <td>40.751260</td>\n",
       "      <td>-73.979654</td>\n",
       "      <td>40.746139</td>\n",
       "      <td>1</td>\n",
       "      <td>0.618628</td>\n",
       "      <td>156.994148</td>\n",
       "      <td>11</td>\n",
       "      <td>8</td>\n",
       "      <td>10</td>\n",
       "      <td>5</td>\n",
       "      <td>2011</td>\n",
       "    </tr>\n",
       "    <tr>\n",
       "      <th>3</th>\n",
       "      <td>2012-12-01 21:12:12.0000002</td>\n",
       "      <td>2012-12-01 21:12:12</td>\n",
       "      <td>-73.981160</td>\n",
       "      <td>40.767807</td>\n",
       "      <td>-73.990448</td>\n",
       "      <td>40.751635</td>\n",
       "      <td>1</td>\n",
       "      <td>1.961033</td>\n",
       "      <td>203.513308</td>\n",
       "      <td>21</td>\n",
       "      <td>1</td>\n",
       "      <td>12</td>\n",
       "      <td>5</td>\n",
       "      <td>2012</td>\n",
       "    </tr>\n",
       "    <tr>\n",
       "      <th>4</th>\n",
       "      <td>2012-12-01 21:12:12.0000003</td>\n",
       "      <td>2012-12-01 21:12:12</td>\n",
       "      <td>-73.966046</td>\n",
       "      <td>40.789775</td>\n",
       "      <td>-73.988565</td>\n",
       "      <td>40.744427</td>\n",
       "      <td>1</td>\n",
       "      <td>5.387301</td>\n",
       "      <td>200.618451</td>\n",
       "      <td>21</td>\n",
       "      <td>1</td>\n",
       "      <td>12</td>\n",
       "      <td>5</td>\n",
       "      <td>2012</td>\n",
       "    </tr>\n",
       "  </tbody>\n",
       "</table>\n",
       "</div>"
      ],
      "text/plain": [
       "                           key     pickup_datetime  pickup_longitude  \\\n",
       "0  2015-01-27 13:08:24.0000002 2015-01-27 13:08:24        -73.973320   \n",
       "1  2015-01-27 13:08:24.0000003 2015-01-27 13:08:24        -73.986862   \n",
       "2  2011-10-08 11:53:44.0000002 2011-10-08 11:53:44        -73.982524   \n",
       "3  2012-12-01 21:12:12.0000002 2012-12-01 21:12:12        -73.981160   \n",
       "4  2012-12-01 21:12:12.0000003 2012-12-01 21:12:12        -73.966046   \n",
       "\n",
       "   pickup_latitude  dropoff_longitude  dropoff_latitude  passenger_count  \\\n",
       "0        40.763805         -73.981430         40.743835                1   \n",
       "1        40.719383         -73.998886         40.739201                1   \n",
       "2        40.751260         -73.979654         40.746139                1   \n",
       "3        40.767807         -73.990448         40.751635                1   \n",
       "4        40.789775         -73.988565         40.744427                1   \n",
       "\n",
       "   distance     azimuth  hour  day  month  dayofweek  year  \n",
       "0  2.323260  197.102591    13   27      1          1  2015  \n",
       "1  2.425353  335.311613    13   27      1          1  2015  \n",
       "2  0.618628  156.994148    11    8     10          5  2011  \n",
       "3  1.961033  203.513308    21    1     12          5  2012  \n",
       "4  5.387301  200.618451    21    1     12          5  2012  "
      ]
     },
     "execution_count": 5,
     "metadata": {},
     "output_type": "execute_result"
    }
   ],
   "source": [
    "df_test = pd.read_csv(INPUT_TEST)\n",
    "df_test = preprocessing(df_test, isTrainData=False)\n",
    "df_test.head()"
   ]
  },
  {
   "cell_type": "markdown",
   "metadata": {},
   "source": [
    "# Load Train Data"
   ]
  },
  {
   "cell_type": "code",
   "execution_count": 6,
   "metadata": {},
   "outputs": [
    {
     "name": "stdout",
     "output_type": "stream",
     "text": [
      "before dropna:(5500, 8)\n",
      "after dropna:(5500, 8)\n",
      "after fare_amount > 0:(5498, 8)\n",
      "after outlier_iqr:(5029, 8)\n",
      "after narrrowing location:(4925, 8)\n",
      "after passenger count > 0:(4907, 8)\n",
      "after adding distance and azimuth > 0:(4907, 10)\n",
      "after updating pickup_datetime > 0:(4907, 15)\n"
     ]
    },
    {
     "data": {
      "text/html": [
       "<div>\n",
       "<style scoped>\n",
       "    .dataframe tbody tr th:only-of-type {\n",
       "        vertical-align: middle;\n",
       "    }\n",
       "\n",
       "    .dataframe tbody tr th {\n",
       "        vertical-align: top;\n",
       "    }\n",
       "\n",
       "    .dataframe thead th {\n",
       "        text-align: right;\n",
       "    }\n",
       "</style>\n",
       "<table border=\"1\" class=\"dataframe\">\n",
       "  <thead>\n",
       "    <tr style=\"text-align: right;\">\n",
       "      <th></th>\n",
       "      <th>key</th>\n",
       "      <th>fare_amount</th>\n",
       "      <th>pickup_datetime</th>\n",
       "      <th>pickup_longitude</th>\n",
       "      <th>pickup_latitude</th>\n",
       "      <th>dropoff_longitude</th>\n",
       "      <th>dropoff_latitude</th>\n",
       "      <th>passenger_count</th>\n",
       "      <th>distance</th>\n",
       "      <th>azimuth</th>\n",
       "      <th>hour</th>\n",
       "      <th>day</th>\n",
       "      <th>month</th>\n",
       "      <th>dayofweek</th>\n",
       "      <th>year</th>\n",
       "    </tr>\n",
       "  </thead>\n",
       "  <tbody>\n",
       "    <tr>\n",
       "      <th>0</th>\n",
       "      <td>2009-06-15 17:26:21.0000001</td>\n",
       "      <td>4.5</td>\n",
       "      <td>2009-06-15 17:26:21</td>\n",
       "      <td>-73.844311</td>\n",
       "      <td>40.721319</td>\n",
       "      <td>-73.841610</td>\n",
       "      <td>40.712278</td>\n",
       "      <td>1</td>\n",
       "      <td>1.030764</td>\n",
       "      <td>167.240469</td>\n",
       "      <td>17</td>\n",
       "      <td>15</td>\n",
       "      <td>6</td>\n",
       "      <td>0</td>\n",
       "      <td>2009</td>\n",
       "    </tr>\n",
       "    <tr>\n",
       "      <th>1</th>\n",
       "      <td>2010-01-05 16:52:16.0000002</td>\n",
       "      <td>16.9</td>\n",
       "      <td>2010-01-05 16:52:16</td>\n",
       "      <td>-74.016048</td>\n",
       "      <td>40.711303</td>\n",
       "      <td>-73.979268</td>\n",
       "      <td>40.782004</td>\n",
       "      <td>1</td>\n",
       "      <td>8.450134</td>\n",
       "      <td>21.498365</td>\n",
       "      <td>16</td>\n",
       "      <td>5</td>\n",
       "      <td>1</td>\n",
       "      <td>1</td>\n",
       "      <td>2010</td>\n",
       "    </tr>\n",
       "    <tr>\n",
       "      <th>2</th>\n",
       "      <td>2011-08-18 00:35:00.00000049</td>\n",
       "      <td>5.7</td>\n",
       "      <td>2011-08-18 00:35:00</td>\n",
       "      <td>-73.982738</td>\n",
       "      <td>40.761270</td>\n",
       "      <td>-73.991242</td>\n",
       "      <td>40.750562</td>\n",
       "      <td>2</td>\n",
       "      <td>1.389525</td>\n",
       "      <td>211.033211</td>\n",
       "      <td>0</td>\n",
       "      <td>18</td>\n",
       "      <td>8</td>\n",
       "      <td>3</td>\n",
       "      <td>2011</td>\n",
       "    </tr>\n",
       "    <tr>\n",
       "      <th>3</th>\n",
       "      <td>2012-04-21 04:30:42.0000001</td>\n",
       "      <td>7.7</td>\n",
       "      <td>2012-04-21 04:30:42</td>\n",
       "      <td>-73.987130</td>\n",
       "      <td>40.733143</td>\n",
       "      <td>-73.991567</td>\n",
       "      <td>40.758092</td>\n",
       "      <td>1</td>\n",
       "      <td>2.799270</td>\n",
       "      <td>352.327836</td>\n",
       "      <td>4</td>\n",
       "      <td>21</td>\n",
       "      <td>4</td>\n",
       "      <td>5</td>\n",
       "      <td>2012</td>\n",
       "    </tr>\n",
       "    <tr>\n",
       "      <th>4</th>\n",
       "      <td>2010-03-09 07:51:00.000000135</td>\n",
       "      <td>5.3</td>\n",
       "      <td>2010-03-09 07:51:00</td>\n",
       "      <td>-73.968095</td>\n",
       "      <td>40.768008</td>\n",
       "      <td>-73.956655</td>\n",
       "      <td>40.783762</td>\n",
       "      <td>1</td>\n",
       "      <td>1.999157</td>\n",
       "      <td>28.802783</td>\n",
       "      <td>7</td>\n",
       "      <td>9</td>\n",
       "      <td>3</td>\n",
       "      <td>1</td>\n",
       "      <td>2010</td>\n",
       "    </tr>\n",
       "  </tbody>\n",
       "</table>\n",
       "</div>"
      ],
      "text/plain": [
       "                             key  fare_amount     pickup_datetime  \\\n",
       "0    2009-06-15 17:26:21.0000001          4.5 2009-06-15 17:26:21   \n",
       "1    2010-01-05 16:52:16.0000002         16.9 2010-01-05 16:52:16   \n",
       "2   2011-08-18 00:35:00.00000049          5.7 2011-08-18 00:35:00   \n",
       "3    2012-04-21 04:30:42.0000001          7.7 2012-04-21 04:30:42   \n",
       "4  2010-03-09 07:51:00.000000135          5.3 2010-03-09 07:51:00   \n",
       "\n",
       "   pickup_longitude  pickup_latitude  dropoff_longitude  dropoff_latitude  \\\n",
       "0        -73.844311        40.721319         -73.841610         40.712278   \n",
       "1        -74.016048        40.711303         -73.979268         40.782004   \n",
       "2        -73.982738        40.761270         -73.991242         40.750562   \n",
       "3        -73.987130        40.733143         -73.991567         40.758092   \n",
       "4        -73.968095        40.768008         -73.956655         40.783762   \n",
       "\n",
       "   passenger_count  distance     azimuth  hour  day  month  dayofweek  year  \n",
       "0                1  1.030764  167.240469    17   15      6          0  2009  \n",
       "1                1  8.450134   21.498365    16    5      1          1  2010  \n",
       "2                2  1.389525  211.033211     0   18      8          3  2011  \n",
       "3                1  2.799270  352.327836     4   21      4          5  2012  \n",
       "4                1  1.999157   28.802783     7    9      3          1  2010  "
      ]
     },
     "execution_count": 6,
     "metadata": {},
     "output_type": "execute_result"
    }
   ],
   "source": [
    "df_train = pd.read_csv(INPUT_TRAIN, nrows=5500) # TODO ふやす\n",
    "df_train = preprocessing(df_train, isTrainData=True)\n",
    "df_train.head()"
   ]
  },
  {
   "cell_type": "markdown",
   "metadata": {},
   "source": [
    "# Modeling"
   ]
  },
  {
   "cell_type": "code",
   "execution_count": 7,
   "metadata": {},
   "outputs": [],
   "source": [
    "from sklearn.model_selection import train_test_split\n",
    "import xgboost as xgb"
   ]
  },
  {
   "cell_type": "code",
   "execution_count": 8,
   "metadata": {},
   "outputs": [
    {
     "name": "stdout",
     "output_type": "stream",
     "text": [
      "(4907, 12)\n",
      "(4907,)\n"
     ]
    }
   ],
   "source": [
    "X = df_train.drop(columns=['key', 'fare_amount', 'pickup_datetime'])\n",
    "y = df_train['fare_amount']\n",
    "\n",
    "print(X.shape)\n",
    "print(y.shape)"
   ]
  },
  {
   "cell_type": "code",
   "execution_count": 9,
   "metadata": {},
   "outputs": [
    {
     "name": "stdout",
     "output_type": "stream",
     "text": [
      "(9914, 12)\n"
     ]
    }
   ],
   "source": [
    "X_pred = df_test.drop(columns=['key','pickup_datetime'])\n",
    "print(X_pred.shape)"
   ]
  },
  {
   "cell_type": "code",
   "execution_count": 10,
   "metadata": {},
   "outputs": [
    {
     "name": "stdout",
     "output_type": "stream",
     "text": [
      "(3925, 12)\n",
      "(982, 12)\n",
      "(3925,)\n",
      "(982,)\n"
     ]
    }
   ],
   "source": [
    "X_train, X_test, y_train, y_test = train_test_split(X, y, test_size=0.2, random_state=0)\n",
    "\n",
    "print(X_train.shape)\n",
    "print(X_test.shape)\n",
    "print(y_train.shape)\n",
    "print(y_test.shape)"
   ]
  },
  {
   "cell_type": "code",
   "execution_count": 19,
   "metadata": {},
   "outputs": [],
   "source": [
    "params = {\n",
    "    'silent' : 1,\n",
    "    'max_depth' : 6,\n",
    "    'min_child_weight' : 1,\n",
    "    'eta' : 0.1,\n",
    "    'tree_method' : 'exact',\n",
    "    'objective' : 'reg:linear',\n",
    "    'eval_metric' : 'rmse',\n",
    "    'predictor' : 'cpu_predictor'\n",
    "}\n",
    "\n",
    "dtrain = xgb.DMatrix(X_train, label=y_train)\n",
    "dtest = xgb.DMatrix(X_test, label=y_test)"
   ]
  },
  {
   "cell_type": "markdown",
   "metadata": {},
   "source": [
    "# hyper parameter turning"
   ]
  },
  {
   "cell_type": "code",
   "execution_count": 12,
   "metadata": {},
   "outputs": [
    {
     "data": {
      "text/plain": [
       "[(6, 0.1),\n",
       " (6, 0.05),\n",
       " (6, 0.01),\n",
       " (7, 0.1),\n",
       " (7, 0.05),\n",
       " (7, 0.01),\n",
       " (8, 0.1),\n",
       " (8, 0.05),\n",
       " (8, 0.01)]"
      ]
     },
     "execution_count": 12,
     "metadata": {},
     "output_type": "execute_result"
    }
   ],
   "source": [
    "gridsearch_params = [\n",
    "    (max_depth, eta)\n",
    "    for max_depth in [6,7, 8]\n",
    "    for eta in [0.1, 0.05, 0.01]\n",
    "]\n",
    "gridsearch_params"
   ]
  },
  {
   "cell_type": "code",
   "execution_count": 13,
   "metadata": {},
   "outputs": [
    {
     "name": "stdout",
     "output_type": "stream",
     "text": [
      "max_depth=6, eta=0.1\n",
      "  RMSE 1.9716552 for 99 rounds\n",
      "max_depth=6, eta=0.05\n",
      "  RMSE 1.9895973999999998 for 99 rounds\n",
      "max_depth=6, eta=0.01\n",
      "  RMSE 4.0105716000000005 for 99 rounds\n",
      "max_depth=7, eta=0.1\n",
      "  RMSE 2.0067282 for 89 rounds\n",
      "max_depth=7, eta=0.05\n",
      "  RMSE 2.0053444 for 99 rounds\n",
      "max_depth=7, eta=0.01\n",
      "  RMSE 4.023728800000001 for 99 rounds\n",
      "max_depth=8, eta=0.1\n",
      "  RMSE 2.030862 for 89 rounds\n",
      "max_depth=8, eta=0.05\n",
      "  RMSE 2.0435786 for 99 rounds\n",
      "max_depth=8, eta=0.01\n",
      "  RMSE 4.0390543999999995 for 99 rounds\n",
      "\n",
      "Best parmas (6, 0.1), RMSE 1.9716552\n"
     ]
    }
   ],
   "source": [
    "min_rmse = float('inf')\n",
    "best_param = []\n",
    "\n",
    "for max_depth, eta in gridsearch_params:\n",
    "    print('max_depth={}, eta={}'.format(max_depth, eta))\n",
    "    \n",
    "    params['max_depth'] = max_depth\n",
    "    params['eta'] = eta\n",
    "    \n",
    "    cv_results = xgb.cv(\n",
    "        params,\n",
    "        dtrain,\n",
    "        num_boost_round=100, # TODO: 1000 にする\n",
    "        seed=0,\n",
    "        nfold=5,\n",
    "        metrics={'rmse'},\n",
    "        early_stopping_rounds=5\n",
    "    )\n",
    "    \n",
    "    mean_rmse = cv_results['test-rmse-mean'].min()\n",
    "    boost_rounds = cv_results['test-rmse-mean'].idxmin()\n",
    "    print('  RMSE {} for {} rounds'.format(mean_rmse, boost_rounds))\n",
    "    \n",
    "    if mean_rmse < min_rmse:\n",
    "        min_rmse = mean_rmse\n",
    "        best_param = (max_depth, eta)\n",
    "        \n",
    "print('\\nBest parmas {}, RMSE {}'.format(best_param, min_rmse))"
   ]
  },
  {
   "cell_type": "code",
   "execution_count": 14,
   "metadata": {},
   "outputs": [
    {
     "name": "stdout",
     "output_type": "stream",
     "text": [
      "[0]\ttest-rmse:8.52693\n",
      "Will train until test-rmse hasn't improved in 5 rounds.\n",
      "[1]\ttest-rmse:7.74526\n",
      "[2]\ttest-rmse:7.04625\n",
      "[3]\ttest-rmse:6.42359\n",
      "[4]\ttest-rmse:5.86927\n",
      "[5]\ttest-rmse:5.37025\n",
      "[6]\ttest-rmse:4.93316\n",
      "[7]\ttest-rmse:4.54215\n",
      "[8]\ttest-rmse:4.19679\n",
      "[9]\ttest-rmse:3.89288\n",
      "[10]\ttest-rmse:3.62402\n",
      "[11]\ttest-rmse:3.40315\n",
      "[12]\ttest-rmse:3.203\n",
      "[13]\ttest-rmse:3.02582\n",
      "[14]\ttest-rmse:2.87819\n",
      "[15]\ttest-rmse:2.75407\n",
      "[16]\ttest-rmse:2.63837\n",
      "[17]\ttest-rmse:2.53933\n",
      "[18]\ttest-rmse:2.45177\n",
      "[19]\ttest-rmse:2.38573\n",
      "[20]\ttest-rmse:2.32618\n",
      "[21]\ttest-rmse:2.28037\n",
      "[22]\ttest-rmse:2.23881\n",
      "[23]\ttest-rmse:2.20311\n",
      "[24]\ttest-rmse:2.17793\n",
      "[25]\ttest-rmse:2.15131\n",
      "[26]\ttest-rmse:2.13459\n",
      "[27]\ttest-rmse:2.11212\n",
      "[28]\ttest-rmse:2.09614\n",
      "[29]\ttest-rmse:2.08517\n",
      "[30]\ttest-rmse:2.07588\n",
      "[31]\ttest-rmse:2.06219\n",
      "[32]\ttest-rmse:2.0552\n",
      "[33]\ttest-rmse:2.0499\n",
      "[34]\ttest-rmse:2.04275\n",
      "[35]\ttest-rmse:2.03546\n",
      "[36]\ttest-rmse:2.0329\n",
      "[37]\ttest-rmse:2.02949\n",
      "[38]\ttest-rmse:2.02469\n",
      "[39]\ttest-rmse:2.02034\n",
      "[40]\ttest-rmse:2.01936\n",
      "[41]\ttest-rmse:2.01687\n",
      "[42]\ttest-rmse:2.01362\n",
      "[43]\ttest-rmse:2.00961\n",
      "[44]\ttest-rmse:2.00717\n",
      "[45]\ttest-rmse:2.00238\n",
      "[46]\ttest-rmse:2.0003\n",
      "[47]\ttest-rmse:1.99734\n",
      "[48]\ttest-rmse:1.99619\n",
      "[49]\ttest-rmse:1.99542\n",
      "[50]\ttest-rmse:1.99528\n",
      "[51]\ttest-rmse:1.99352\n",
      "[52]\ttest-rmse:1.99205\n",
      "[53]\ttest-rmse:1.98906\n",
      "[54]\ttest-rmse:1.9918\n",
      "[55]\ttest-rmse:1.99112\n",
      "[56]\ttest-rmse:1.99034\n",
      "[57]\ttest-rmse:1.98939\n",
      "[58]\ttest-rmse:1.98915\n",
      "Stopping. Best iteration:\n",
      "[53]\ttest-rmse:1.98906\n",
      "\n"
     ]
    }
   ],
   "source": [
    "# learning again by best params\n",
    "params['max_depth'] = best_param[0]\n",
    "params['eta'] = best_param[1]\n",
    "\n",
    "model = xgb.train(params=params,\n",
    "                 dtrain=dtrain,\n",
    "                 num_boost_round=1000,\n",
    "                 early_stopping_rounds=5,\n",
    "                 evals=[(dtest, 'test')])"
   ]
  },
  {
   "cell_type": "code",
   "execution_count": 15,
   "metadata": {},
   "outputs": [
    {
     "data": {
      "image/png": "[encoded data removed]",
      "text/plain": [
       "<Figure size 864x864 with 1 Axes>"
      ]
     },
     "metadata": {
      "needs_background": "light"
     },
     "output_type": "display_data"
    }
   ],
   "source": [
    "# prediction\n",
    "prediction = model.predict(xgb.DMatrix(X_test),\n",
    "                                        ntree_limit=model.best_ntree_limit)\n",
    "plt.figure(figsize=(12,12))\n",
    "plt.scatter(y_test[:1000], prediction[:1000], alpha=0.2)\n",
    "plt.show()"
   ]
  },
  {
   "cell_type": "code",
   "execution_count": 16,
   "metadata": {},
   "outputs": [
    {
     "data": {
      "image/png": "[encoded data removed]",
      "text/plain": [
       "<Figure size 864x864 with 1 Axes>"
      ]
     },
     "metadata": {
      "needs_background": "light"
     },
     "output_type": "display_data"
    }
   ],
   "source": [
    "fig, ax = plt.subplots(figsize=(12,12))\n",
    "xgb.plot_importance(model, max_num_features=12, height=0.8, ax=ax)\n",
    "plt.show()"
   ]
  },
  {
   "cell_type": "code",
   "execution_count": 17,
   "metadata": {},
   "outputs": [
    {
     "name": "stdout",
     "output_type": "stream",
     "text": [
      "(9914,)\n"
     ]
    }
   ],
   "source": [
    "pred = model.predict(xgb.DMatrix(X_pred),\n",
    "                     ntree_limit=model.best_ntree_limit)\n",
    "print(pred.shape)"
   ]
  },
  {
   "cell_type": "code",
   "execution_count": 18,
   "metadata": {},
   "outputs": [],
   "source": [
    "df_test['fare_amount'] = pred\n",
    "df_test[['key','fare_amount']].to_csv(OUTPUT_SUBMIT, index=False)"
   ]
  }
 ],
 "metadata": {
  "kernelspec": {
   "display_name": "Python 3",
   "language": "python",
   "name": "python3"
  },
  "language_info": {
   "codemirror_mode": {
    "name": "ipython",
    "version": 3
   },
   "file_extension": ".py",
   "mimetype": "text/x-python",
   "name": "python",
   "nbconvert_exporter": "python",
   "pygments_lexer": "ipython3",
   "version": "3.7.3"
  }
 },
 "nbformat": 4,
 "nbformat_minor": 2
}
